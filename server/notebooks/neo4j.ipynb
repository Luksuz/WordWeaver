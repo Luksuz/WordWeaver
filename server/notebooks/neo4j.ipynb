{
 "cells": [
  {
   "cell_type": "code",
   "execution_count": 43,
   "metadata": {},
   "outputs": [],
   "source": [
    "from neo4j import GraphDatabase\n",
    "import os \n",
    "import dotenv   \n",
    "from langchain_core.prompts import ChatPromptTemplate\n",
    "from langchain_openai import ChatOpenAI\n",
    "from langchain_core.pydantic_v1 import BaseModel, Field\n",
    "from typing import List\n",
    "\n",
    "dotenv.load_dotenv()\n",
    "\n",
    "# URI examples: \"neo4j://localhost\", \"neo4j+s://xxx.databases.neo4j.io\"\n",
    "URI = \"neo4j+s://c5653eb6.databases.neo4j.io\"\n",
    "USERNAME = os.getenv(\"NEO4J_USERNAME\")\n",
    "PASSWORD = os.getenv(\"NEO4J_PASSWORD\")\n",
    "\n",
    "def execute_cypher_query(statements: List[str]):\n",
    "    driver = GraphDatabase.driver(URI, auth=(USERNAME, PASSWORD))\n",
    "    \"\"\"\n",
    "    Execute a Cypher query against a Neo4j database.\n",
    "    \n",
    "    Args:\n",
    "        query: The Cypher query to execute\n",
    "        \n",
    "    Returns:\n",
    "        For MATCH queries: List of dictionaries containing the query results\n",
    "        For other queries: None\n",
    "    \"\"\"\n",
    "    results = []\n",
    "    \n",
    "    try:\n",
    "        with driver.session() as session:\n",
    "            for statement in statements:\n",
    "                # Check if this is a read query (starts with MATCH, RETURN, etc.)\n",
    "                is_read_query = statement.strip().upper().startswith(('MATCH', 'RETURN', 'CALL', 'WITH'))\n",
    "                \n",
    "                # Execute the statement\n",
    "                result = session.run(statement)\n",
    "                \n",
    "                # If it's a read query, collect the results\n",
    "                if is_read_query:\n",
    "                    # Convert result to a list of dictionaries\n",
    "                    statement_results = [dict(record) for record in result]\n",
    "                    results.extend(statement_results)\n",
    "                    \n",
    "            if results:\n",
    "                print(f\"Query returned {len(results)} records\")\n",
    "            else:\n",
    "                print(\"Query executed successfully\")\n",
    "                \n",
    "            return results\n",
    "    except Exception as e:\n",
    "        print(f\"Error executing query: {str(e)}\")\n",
    "        raise\n",
    "    finally:\n",
    "        driver.close()\n"
   ]
  },
  {
   "cell_type": "code",
   "execution_count": 72,
   "metadata": {},
   "outputs": [],
   "source": [
    "def get_detailed_schema():\n",
    "    driver = GraphDatabase.driver(URI, auth=(USERNAME, PASSWORD))\n",
    "    \n",
    "    try:\n",
    "        with driver.session() as session:\n",
    "            # Get all node labels\n",
    "            labels_query = \"CALL db.labels()\"\n",
    "            labels_result = session.run(labels_query)\n",
    "            labels = [record[\"label\"] for record in labels_result]\n",
    "            \n",
    "            # Get all relationship types\n",
    "            rel_types_query = \"CALL db.relationshipTypes()\"\n",
    "            rel_types_result = session.run(rel_types_query)\n",
    "            rel_types = [record[\"relationshipType\"] for record in rel_types_result]\n",
    "            \n",
    "            # Get node properties for each label\n",
    "            node_properties = {}\n",
    "            for label in labels:\n",
    "                properties_query = f\"\"\"\n",
    "                MATCH (n:{label})\n",
    "                WITH n LIMIT 1\n",
    "                RETURN keys(n) as properties\n",
    "                \"\"\"\n",
    "                properties_result = session.run(properties_query)\n",
    "                properties = [record[\"properties\"] for record in properties_result]\n",
    "                if properties and properties[0]:\n",
    "                    node_properties[label] = properties[0]\n",
    "                else:\n",
    "                    node_properties[label] = []\n",
    "            \n",
    "            # Get existing nodes with their properties\n",
    "            existing_nodes = {}\n",
    "            for label in labels:\n",
    "                nodes_query = f\"\"\"\n",
    "                MATCH (n:{label})\n",
    "                RETURN n\n",
    "                \"\"\"\n",
    "                nodes_result = session.run(nodes_query)\n",
    "                nodes = [dict(record[\"n\"]) for record in nodes_result]\n",
    "                if nodes:\n",
    "                    existing_nodes[label] = nodes\n",
    "            \n",
    "            # Get relationship properties and structure\n",
    "            relationship_details = []\n",
    "            for rel_type in rel_types:\n",
    "                rel_query = f\"\"\"\n",
    "                MATCH (a)-[r:{rel_type}]->(b)\n",
    "                WITH a, r, b LIMIT 10\n",
    "                RETURN labels(a) as source_labels, \n",
    "                       labels(b) as target_labels, \n",
    "                       type(r) as relationship_type,\n",
    "                       keys(r) as relationship_properties,\n",
    "                       a.name as source_name,\n",
    "                       b.name as target_name\n",
    "                \"\"\"\n",
    "                rel_result = session.run(rel_query)\n",
    "                for record in rel_result:\n",
    "                    relationship_details.append({\n",
    "                        \"source_labels\": record[\"source_labels\"],\n",
    "                        \"target_labels\": record[\"target_labels\"],\n",
    "                        \"relationship_type\": record[\"relationship_type\"],\n",
    "                        \"relationship_properties\": record[\"relationship_properties\"],\n",
    "                        \"source_name\": record[\"source_name\"],\n",
    "                        \"target_name\": record[\"target_name\"]\n",
    "                    })\n",
    "            \n",
    "            return {\n",
    "                \"node_labels\": labels,\n",
    "                \"relationship_types\": rel_types,\n",
    "                \"node_properties\": node_properties,\n",
    "                \"existing_nodes\": existing_nodes,\n",
    "                \"relationship_details\": relationship_details\n",
    "            }\n",
    "    finally:\n",
    "        driver.close()"
   ]
  },
  {
   "cell_type": "code",
   "execution_count": 73,
   "metadata": {},
   "outputs": [],
   "source": [
    "class CypherQuery(BaseModel):\n",
    "    query: List[str]\n",
    "\n",
    "def generate_cypher_query(input: str) -> str:\n",
    "        \"\"\"\n",
    "        Generate content for a specific outline section and store it in the database.\n",
    "        \n",
    "        Args:\n",
    "            input: The input parameters for section content generation\n",
    "            \n",
    "        Returns:\n",
    "            The generated section content\n",
    "        \"\"\"\n",
    "        try:\n",
    "            model = ChatOpenAI(model=\"gpt-4o-mini\", temperature=0.0).with_structured_output(CypherQuery)\n",
    "            \n",
    "            # Get previously generated content if available\n",
    "            \n",
    "            prompt = ChatPromptTemplate.from_messages(\n",
    "                    [\n",
    "                        (\"system\", \"\"\"\n",
    "                            You are an expert in Neo4j and Cypher query language. Generate a list of valid Cypher queries to create \n",
    "                            a graph database for a story with characters, locations, items, and relationships.\n",
    "                            \n",
    "                            CRITICAL RULES FOR GENERATING VALID CYPHER QUERIES:\n",
    "                            \n",
    "                            1. ALWAYS define variables before using them in the SAME statement\n",
    "                            2. NEVER use shorthand variable names like 'p', 'd', 'l' - use descriptive names\n",
    "                            3. NEVER store maps/dictionaries as property values - Neo4j only allows primitive types (strings, numbers, booleans) or arrays of primitive types\n",
    "                            \n",
    "                            CORRECT PROPERTY EXAMPLES:\n",
    "                            ✓ SET character.name = 'Alex'  // String\n",
    "                            ✓ SET character.age = 30  // Number\n",
    "                            ✓ SET character.active = true  // Boolean\n",
    "                            ✓ SET character.skills = ['climbing', 'swimming']  // Array of strings\n",
    "                            \n",
    "                            INCORRECT PROPERTY EXAMPLES (DO NOT USE THESE PATTERNS):\n",
    "                            ✗ SET character.attributes = {{courage: 8, intelligence: 7}}  // Map/dictionary not allowed\n",
    "                            ✗ SET p.age = 50  // Variable 'p' not defined\n",
    "                            \n",
    "                            For complex attributes, store each attribute as a separate property.\n",
    "                            \n",
    "                            Make sure to:\n",
    "                            1. Create nodes with appropriate labels (Character, Location, Item, etc.)\n",
    "                            2. Set properties for each node (name, description, attributes as separate properties)\n",
    "                            3. Create relationships between nodes (LOCATED_AT, CONNECTS_TO, HAS_ITEM, etc.)\n",
    "                            4. Use semicolons to separate statements\n",
    "                            5. Ensure each statement is complete and can run independently\n",
    "                            6. Always define variables before using them\n",
    "                        \"\"\"),\n",
    "                        (\"user\", \"\"\"\n",
    "                            Generate a Cypher query to create the story initial state for this treasure hunt:\n",
    "                            {input}\n",
    "                            \n",
    "                            Remember to never use maps/dictionaries as property values and always define variables before using them.\n",
    "                        \"\"\"),\n",
    "                    ]\n",
    "                ) \n",
    "            \n",
    "           \n",
    "            chain = {\n",
    "                \"input\": lambda x: input,\n",
    "            } | prompt | model\n",
    "            \n",
    "            return chain\n",
    "        except Exception as e:\n",
    "            print(f\"Error generating section content: {str(e)}\")\n",
    "            raise"
   ]
  },
  {
   "cell_type": "code",
   "execution_count": 77,
   "metadata": {},
   "outputs": [],
   "source": [
    "\n",
    "def generate_cypher_query_get_context(input: str) -> str:\n",
    "    \"\"\"\n",
    "    Generate content for a specific outline section and store it in the database.\n",
    "    \n",
    "    Args:\n",
    "        input: The input parameters for section content generation\n",
    "        \n",
    "    Returns:\n",
    "        The generated section content\n",
    "    \"\"\"\n",
    "    try:\n",
    "        model = ChatOpenAI(model=\"gpt-4o-mini\", temperature=0.0).with_structured_output(CypherQuery)\n",
    "        \n",
    "        # Get previously generated content if available\n",
    "            \n",
    "        prompt = ChatPromptTemplate.from_messages(\n",
    "                [\n",
    "                    (\"system\", \"\"\"\n",
    "                        You are an expert in Neo4j and Cypher query language. Generate a list of valid Cypher queries to get the data you need to get the context for the next section of the story.\n",
    "                        Reference the schema of the graph database to create the query.\n",
    "                        SCHEMA:\n",
    "                        {schema}\n",
    "                    \"\"\"),\n",
    "                    (\"user\", \"\"\"\n",
    "                        Next section of the story:\n",
    "                        {input}\n",
    "                    \"\"\"),\n",
    "                ]\n",
    "            )\n",
    "        \n",
    "        \n",
    "        chain = {\n",
    "            \"input\": lambda x: input,\n",
    "            \"schema\": lambda x: get_detailed_schema()\n",
    "        } | prompt | model\n",
    "        \n",
    "        return chain\n",
    "    except Exception as e:\n",
    "        print(f\"Error generating section content: {str(e)}\")\n",
    "        raise"
   ]
  },
  {
   "cell_type": "code",
   "execution_count": 78,
   "metadata": {},
   "outputs": [],
   "source": [
    "def generate_cypher_update_queries(input: str) -> List[str]:\n",
    "    \"\"\"Generate Cypher queries to update the graph based on new story content\"\"\"\n",
    "    \n",
    "    # Initialize the LLM\n",
    "    model = ChatOpenAI(model=\"gpt-4o-mini\", temperature=0.0).with_structured_output(CypherQuery)\n",
    "    \n",
    "    # Create a prompt template\n",
    "    prompt = ChatPromptTemplate.from_messages([\n",
    "        (\"system\", \"\"\"\n",
    "        You are an expert in Neo4j and story analysis. Your task is to analyze a new section of a story \n",
    "        and generate Cypher queries to update a Neo4j graph database with new elements from the story.\n",
    "        \n",
    "        The existing database has the following schema:\n",
    "        {schema}\n",
    "        \n",
    "        CRITICAL RULES FOR GENERATING VALID CYPHER QUERIES:\n",
    "        \n",
    "        1. ALWAYS define variables before using them in the SAME statement\n",
    "        2. NEVER use standalone SET statements - always include a MATCH clause first\n",
    "        3. NEVER use shorthand variable names like 'p', 'd', 'l' - use descriptive names like 'professor', 'doctor', 'harbor'\n",
    "        4. ALWAYS use full, complete queries that can run independently\n",
    "        \n",
    "        CORRECT EXAMPLES:\n",
    "        ✓ MATCH (professor:Character {{name: 'Professor Reed'}}) SET professor.age = 50\n",
    "        ✓ MATCH (harbor:Location {{name: 'Saltwater Harbor'}}), (lighthouse:Location {{name: 'Old Lighthouse'}}) MERGE (harbor)-[:CONNECTS_TO]->(lighthouse)\n",
    "        \n",
    "        INCORRECT EXAMPLES (DO NOT USE THESE PATTERNS):\n",
    "        ✗ SET p.age = 50  // Variable 'p' not defined\n",
    "        ✗ MERGE (l)-[:CONNECTS_TO]->(lighthouse)  // Variables not defined\n",
    "        \n",
    "        For the new story section, identify:\n",
    "        1. New characters, locations, and items to add\n",
    "        2. Updated information about existing entities\n",
    "        3. New relationships between entities\n",
    "        \n",
    "        \n",
    "        Use the following node labels:\n",
    "        - Character (for people)\n",
    "        - Location (for places)\n",
    "        - Item (for objects)\n",
    "        \n",
    "        Use appropriate relationship types like:\n",
    "        - KNOWS, FRIENDS_WITH, ENEMIES_WITH (between characters)\n",
    "        - LOCATED_AT (character at location)\n",
    "        - CONNECTS_TO (between locations)\n",
    "        - HAS_ITEM (character possesses item)\n",
    "        - PART_OF (item is part of another item)\n",
    "        \n",
    "        Return a list of Cypher queries, each as a complete statement with properly defined variables.\n",
    "        \"\"\"),\n",
    "        (\"user\", \"\"\"\n",
    "        Here is the new story section:\n",
    "        {input}\n",
    "        \n",
    "        Generate Cypher queries to update the graph database with new information from this section.\n",
    "        Remember to always define variables before using them, and never use standalone SET statements.\n",
    "        \"\"\"),\n",
    "    ])\n",
    "    \n",
    "    # Execute the chain\n",
    "    chain = {\n",
    "        \"schema\": lambda x: get_detailed_schema(),\n",
    "        \"input\": lambda x: input\n",
    "    } | prompt | model\n",
    "    \n",
    "    return chain"
   ]
  },
  {
   "cell_type": "code",
   "execution_count": 85,
   "metadata": {},
   "outputs": [
    {
     "name": "stdout",
     "output_type": "stream",
     "text": [
      "Query executed successfully\n"
     ]
    },
    {
     "data": {
      "text/plain": [
       "[]"
      ]
     },
     "execution_count": 85,
     "metadata": {},
     "output_type": "execute_result"
    }
   ],
   "source": [
    "cypher_chain_create_initial_state = generate_cypher_query(init_state)\n",
    "cypher_query_create_initial_state = cypher_chain_create_initial_state.invoke(init_state)\n",
    "execute_cypher_query(cypher_query_create_initial_state.query)"
   ]
  },
  {
   "cell_type": "code",
   "execution_count": 86,
   "metadata": {},
   "outputs": [
    {
     "name": "stdout",
     "output_type": "stream",
     "text": [
      "Query returned 9 records\n"
     ]
    }
   ],
   "source": [
    "cypher_chain_get_context = generate_cypher_query_get_context(init_state)\n",
    "cypher_query_get_context = cypher_chain_get_context.invoke(init_state)\n",
    "retrieved_context = execute_cypher_query(cypher_query_get_context.query)"
   ]
  },
  {
   "cell_type": "code",
   "execution_count": 82,
   "metadata": {},
   "outputs": [
    {
     "data": {
      "text/plain": [
       "[]"
      ]
     },
     "execution_count": 82,
     "metadata": {},
     "output_type": "execute_result"
    }
   ],
   "source": [
    "retrieved_context"
   ]
  },
  {
   "cell_type": "code",
   "execution_count": 91,
   "metadata": {},
   "outputs": [
    {
     "name": "stdout",
     "output_type": "stream",
     "text": [
      "Query executed successfully\n"
     ]
    }
   ],
   "source": [
    "cypher_chain_update_state = generate_cypher_update_queries(second_state)\n",
    "cypher_query_update_state = cypher_chain_update_state.invoke(second_state)\n",
    "updated_state = execute_cypher_query(cypher_query_update_state.query)"
   ]
  },
  {
   "cell_type": "code",
   "execution_count": 84,
   "metadata": {},
   "outputs": [
    {
     "data": {
      "text/plain": [
       "[]"
      ]
     },
     "execution_count": 84,
     "metadata": {},
     "output_type": "execute_result"
    }
   ],
   "source": [
    "updated_state"
   ]
  },
  {
   "cell_type": "code",
   "execution_count": 62,
   "metadata": {},
   "outputs": [
    {
     "data": {
      "text/plain": [
       "[]"
      ]
     },
     "execution_count": 62,
     "metadata": {},
     "output_type": "execute_result"
    }
   ],
   "source": [
    "updated_state"
   ]
  },
  {
   "cell_type": "code",
   "execution_count": 4,
   "metadata": {},
   "outputs": [],
   "source": [
    "init_state = \"\"\"\n",
    "The Lost Crown of Eldoria\n",
    "Alex stands in the quaint coastal village of Brookhaven, surrounded by thatched cottages and the scent of salty sea air. An aspiring treasure hunter, Alex has arrived following rumors of the legendary Lost Crown of Eldoria—an ancient artifact said to grant its bearer immense wisdom and power.\n",
    "In Alex's possession are just a few simple items: a weathered map showing the region but missing key locations, a reliable brass compass, and a water bottle for the journey ahead. The village is peaceful, with fishing boats bobbing in the harbor and the imposing stone buildings of Eldoria University visible on the nearby hill.\n",
    "Professor Reed, a renowned historian at the university, might know more about the crown. Captain Morgan, a gruff but experienced sailor, has a boat that could take travelers to the mysterious Crescent Isle where some believe part of the treasure might be hidden. Meanwhile, whispers around the village speak of a thief known only as Raven who may have already stolen an artifact connected to the crown.\n",
    "The locals seem friendly enough, though they regard the newcomer with curiosity. An old fisherman sits by the docks, perhaps with stories to tell, and there's something glinting in the sand—an old coin that might be worth examining.\n",
    "From Brookhaven, paths lead to several locations: the dense Whispering Woods with its winding forest path, the bustling Saltwater Harbor, and the scholarly halls of Eldoria University. Each direction offers potential clues about the Lost Crown, which is said to be broken into four fragments scattered across the land.\n",
    "The quest has not truly begun yet. The crown's history remains shrouded in mystery, the locations of its fragments unknown. Knowledge, allies, and resources must be gathered to piece together this ancient treasure before others claim it for themselves.\n",
    "The morning sun rises higher in the sky as Alex contemplates which path to choose first on this adventure to find the Lost Crown of Eldoria.\n",
    "From Brookhaven, paths lead to several locations: the dense Whispering Woods with its winding forest path, the bustling Saltwater Harbor, and the scholarly halls of Eldoria University. Each direction offers potential clues about the Lost Crown, which is said to be broken into four fragments scattered across the land.\n",
    "The quest has not truly begun yet. The crown's history remains shrouded in mystery, the locations of its fragments unknown. Knowledge, allies, and resources must be gathered to piece together this ancient treasure before others claim it for themselves.\n",
    "The morning sun rises higher in the sky as Alex contemplates which path to choose first on this adventure to find the Lost Crown of Eldoria.\"\"\""
   ]
  },
  {
   "cell_type": "code",
   "execution_count": 88,
   "metadata": {},
   "outputs": [],
   "source": [
    "second_state = \"\"\"\n",
    "Professor reed found a gun and shot alex in the chest.\n",
    "The University's Secret\n",
    "Alex decides to begin the search at Eldoria University, drawn by the promise of knowledge and the expertise of Professor Reed. The cobblestone path winds uphill, leading to an impressive collection of stone buildings covered in ivy. Students hurry across the courtyard, arms full of ancient texts and scrolls.\n",
    "Inside the main hall, Alex finds directions to Professor Reed's office in the Department of Historical Artifacts. The professor's door stands slightly ajar, revealing a cluttered space filled with maps, books, and curious objects from distant lands.\n",
    "\"Professor Reed?\" Alex calls, knocking gently on the door frame.\n",
    "A woman in her fifties looks up from behind a large desk, her silver-streaked hair pulled back in a practical bun. Wire-rimmed glasses perch on her nose, and her eyes light up with interest at the sight of a visitor.\n",
    "\"Yes? Come in, come in. I don't believe we've met before.\" She gestures to a chair across from her desk, pushing aside a stack of papers to make eye contact.\n",
    "Alex explains the purpose of the visit—the search for the Lost Crown of Eldoria—and shows the weathered map. Professor Reed's expression shifts from polite interest to intense focus.\n",
    "\"The Lost Crown... not many people know of its existence anymore.\" She studies Alex carefully. \"What makes you think it's more than just a legend?\"\n",
    "After hearing Alex's reasoning, Professor Reed nods slowly and moves to a locked cabinet in the corner of her office. She retrieves an ancient leather-bound book with faded gold lettering.\n",
    "\"This is the Journal of Mariner Eldon, who claimed to have seen the crown intact over two centuries ago. According to his writings, the crown was split into four pieces by the last ruler of Eldoria to prevent it from falling into the wrong hands.\"\n",
    "As she opens the journal, a small key falls from between its pages. Professor Reed looks surprised.\n",
    "\"I've read this journal dozens of times, but I've never seen this key before.\"\n",
    "The key is small and ornate, made of tarnished silver with a peculiar symbol etched into its handle—a crescent moon intersected by a straight line.\n",
    "\"There's someone else you should meet,\" Professor Reed says, carefully placing the key in Alex's palm. \"Dr. Lydia Blackwood teaches Ancient Languages in the east wing. She's been researching Eldorian symbols for years. This marking might mean something to her.\"\n",
    "As Alex leaves the professor's office, a hooded figure slips away from the shadows of the hallway. The figure moves with practiced stealth toward the university's rear exit, clutching what appears to be a small notebook.\n",
    "The east wing of the university is quieter, with fewer students. Dr. Blackwood's office door is closed, but a melodic humming can be heard from within. When Alex knocks, the humming stops abruptly.\n",
    "\"Enter at your own risk,\" calls a cheerful voice.\n",
    "Dr. Lydia Blackwood is not what Alex expected. Young, perhaps in her early thirties, with bright blue hair and tattoos of ancient symbols visible on her forearms. Her office is even more chaotic than Professor Reed's, with walls covered in charts of symbols and languages.\n",
    "\"Professor Reed sent me,\" Alex begins, holding out the key. \"She thought you might know what this symbol means.\"\n",
    "Dr. Blackwood's eyes widen as she takes the key, examining it under a magnifying glass.\n",
    "\"Where did you find this?\" she whispers, her voice suddenly serious. \"This is the symbol of the Guardians of Eldoria—a secret society sworn to protect the crown's fragments.\" Ssworn to protect the crown's fragments.\" She looks up at Alex with newfound intensity. \"And if you have this key, then you've just become part of something much bigger than a treasure hunt.\"\n",
    "She pulls a large map from beneath a pile of books and spreads it across her desk. It shows the region in much greater detail than Alex's weathered map.\n",
    "\"This key opens a hidden chamber beneath the Old Lighthouse at the edge of Saltwater Harbor. According to legend, it contains a device that can help locate the crown fragments.\" She taps a location on the map. \"But be careful. If Professor Reed found this key, others may know about it too. The Guardians aren't the only ones interested in the crown.\"\n",
    "As if to confirm her warning, a distant crash echoes from the direction of Professor Reed's office, followed by shouts of alarm.\n",
    "\"You should go,\" Dr. Blackwood says urgently, rolling up the detailed map and thrusting it into Alex's hands. \"Take the back stairs. I'll check on Professor Reed.\"\n",
    "As Alex hurries down the back staircase, the university bell begins to toll—not the usual hourly chime, but a rapid, alarming sequence that sends students and faculty rushing into the corridors.\n",
    "Outside, the sky has darkened with approaching storm clouds, and the windcarries the scent of rain. The path back to Brookhaven lies ahead, but so does the road to Saltwater Harbor and the mysterious lighthouse with its hidden chamber.\n",
    "The key feels heavy in Alex's pocket, a new weight of responsibility. The treasure hunt has truly begun, and already it seems more dangerous—and more important—than Alex had imagined.\n",
    "\"\"\""
   ]
  },
  {
   "cell_type": "code",
   "execution_count": 90,
   "metadata": {},
   "outputs": [],
   "source": [
    "second_state = \"lydia blackwood found a gun and shot dr. reed in the chest.\""
   ]
  },
  {
   "cell_type": "code",
   "execution_count": null,
   "metadata": {},
   "outputs": [],
   "source": []
  }
 ],
 "metadata": {
  "kernelspec": {
   "display_name": "Python 3",
   "language": "python",
   "name": "python3"
  },
  "language_info": {
   "codemirror_mode": {
    "name": "ipython",
    "version": 3
   },
   "file_extension": ".py",
   "mimetype": "text/x-python",
   "name": "python",
   "nbconvert_exporter": "python",
   "pygments_lexer": "ipython3",
   "version": "3.10.14"
  }
 },
 "nbformat": 4,
 "nbformat_minor": 2
}
